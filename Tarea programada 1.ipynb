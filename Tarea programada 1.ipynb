{
 "cells": [
  {
   "cell_type": "markdown",
   "metadata": {},
   "source": [
    "# Conceptos básicos de Python"
   ]
  },
  {
   "cell_type": "raw",
   "metadata": {},
   "source": [
    "En este corto tutorial, exploraremos conceptos básicos de Python: matemáticas, hilera de caracteres, listas, diccionarios,tuplas, conjuntos, bucles, comentarios, valores lógicos, funciones y modulos. También introduciremos el concepto de \"Pythonic code\".\n",
    "\n",
    "Si usted es nuevo en Python no pretenda absorber toda la información en forma inmediata. Es un lenguaje expansivo con una rica sintaxis, muchas funciones y módulos integrados para todo, desde aprendizaje automático hasta computación simbólica."
   ]
  },
  {
   "cell_type": "markdown",
   "metadata": {},
   "source": [
    "## Matemática básica\n",
    "Las operaciones matemáticas de punto flotante funcionan como es de esperar, siguiendo las convenciones de C/ C++ y la prioridad de operación. Para mayor comodidad, se proporciona una operador exponencial (**).\n",
    "\n",
    "La mayoría de operaciones con enteros funciona como se espera. Cabe destacar un detalle importante con las divisiones de enteros, a diferencia de C/C++ y otros lenguajes, los enteros se convierten en valores de puntos flotantes si en la división resulta un número no entero; si usted quiere aplicar una división que resulte un número entero, utilice \"//\"."
   ]
  },
  {
   "cell_type": "markdown",
   "metadata": {},
   "source": [
    "### Práctica\n",
    "Realice las siguientes operaciones y compruebe su resultado con ayuda de la calculadora.\n",
    "\n",
    "Suma de números flotantes: ((1.0+3.0-1.0)x30)^{2}/5"
   ]
  },
  {
   "cell_type": "code",
   "execution_count": null,
   "metadata": {},
   "outputs": [],
   "source": []
  },
  {
   "cell_type": "markdown",
   "metadata": {},
   "source": [
    "Suma de números enteros: ((1+3-1)x3)^{2} \\% 7"
   ]
  },
  {
   "cell_type": "code",
   "execution_count": null,
   "metadata": {},
   "outputs": [],
   "source": []
  },
  {
   "cell_type": "markdown",
   "metadata": {},
   "source": [
    "División con resultado flotante: 5/4 = 1.25"
   ]
  },
  {
   "cell_type": "code",
   "execution_count": null,
   "metadata": {},
   "outputs": [],
   "source": []
  },
  {
   "cell_type": "markdown",
   "metadata": {},
   "source": [
    "División entera: 5/4 = 1"
   ]
  },
  {
   "cell_type": "code",
   "execution_count": null,
   "metadata": {},
   "outputs": [],
   "source": []
  },
  {
   "cell_type": "markdown",
   "metadata": {},
   "source": [
    "## Operaciones Booleanas y Lógicas\n",
    "Los valores Booleanos en Python son \"True\" (Verdadero) o \"False\" (Falso), siempre en mayúscula. Muchos otras cosas se tratan como \"false\": cadenas vacías, cero (punto flotante, complejo y entero), conjuntos y listas vacías. De forma predeterminada, todo lo demás se trata como verdadero: cadenas no vacías, valores numéricos que no equivalen a cero, conjuntos y listas no vacías. \n",
    "\n",
    "En opinión personal del autor, Python se siente que fue diseñado para humanos, a diferencia de C y Perl, que parecen haber sido diseñados para máquinas o robots. La sintaxis tiende a ser más sencilla, más legible. Python usa \"and\" (\"y\") o \"not\" (\"no\") en lugar de \"&&, ||, !\""
   ]
  },
  {
   "cell_type": "markdown",
   "metadata": {},
   "source": [
    "### Práctica\n",
    "Realice las siguientes operaciones lógicas y booleanas:\n",
    "\n",
    "Verdadero y Falso"
   ]
  },
  {
   "cell_type": "code",
   "execution_count": null,
   "metadata": {},
   "outputs": [],
   "source": []
  },
  {
   "cell_type": "markdown",
   "metadata": {},
   "source": [
    "Verdadero o Falso"
   ]
  },
  {
   "cell_type": "code",
   "execution_count": null,
   "metadata": {},
   "outputs": [],
   "source": []
  },
  {
   "cell_type": "markdown",
   "metadata": {},
   "source": [
    "No Verdadero"
   ]
  },
  {
   "cell_type": "code",
   "execution_count": null,
   "metadata": {},
   "outputs": [],
   "source": []
  },
  {
   "cell_type": "markdown",
   "metadata": {},
   "source": [
    "3 mayor que 5"
   ]
  },
  {
   "cell_type": "code",
   "execution_count": null,
   "metadata": {},
   "outputs": [],
   "source": []
  },
  {
   "cell_type": "markdown",
   "metadata": {},
   "source": [
    "3 menor que 5"
   ]
  },
  {
   "cell_type": "code",
   "execution_count": null,
   "metadata": {},
   "outputs": [],
   "source": []
  },
  {
   "cell_type": "markdown",
   "metadata": {},
   "source": [
    "3 mayor que 2 y 5 menor que 7"
   ]
  },
  {
   "cell_type": "code",
   "execution_count": null,
   "metadata": {},
   "outputs": [],
   "source": []
  },
  {
   "cell_type": "markdown",
   "metadata": {},
   "source": [
    "## Comentarios\n",
    "Los comentarios de una sóla línea inician con un \"#\" y se extienden hasta el final de la línea. El inicio y el fin de un comentario multi-línea son enmarcados utilizando tres apostrofes (''')"
   ]
  },
  {
   "cell_type": "markdown",
   "metadata": {},
   "source": [
    "### Práctica\n",
    "\n",
    "Comentario de una sola línea"
   ]
  },
  {
   "cell_type": "code",
   "execution_count": null,
   "metadata": {},
   "outputs": [],
   "source": []
  },
  {
   "cell_type": "markdown",
   "metadata": {},
   "source": [
    "Comentario de 3 líneas seguidas"
   ]
  },
  {
   "cell_type": "code",
   "execution_count": null,
   "metadata": {},
   "outputs": [],
   "source": []
  },
  {
   "cell_type": "markdown",
   "metadata": {},
   "source": [
    "Operación aritmética seguida de un comentario en la misma línea"
   ]
  },
  {
   "cell_type": "code",
   "execution_count": null,
   "metadata": {},
   "outputs": [],
   "source": []
  },
  {
   "cell_type": "markdown",
   "metadata": {},
   "source": [
    "## Hileras de caracteres\n",
    "Las hilera de caracteres en Python actúan mucho como una lista, de las cuales se hablará más adelante. Caracteres en la hilera de caracteres se accesan empezando por el 0, como en C/C++. Rangos de caracteres se pueden accesar utilizando cortes [inicio:fin], pero note que el último índice no está incluido.\n",
    "\n",
    "En este punto se introducirá la función \"print\" (imprimir). Si una expresión es evaluada pero no se le asigna a una variable, el resultado es impreso con la salida estándar. Si una celda del cuaderno de iPython contiene más de una expresión, únicamente la última será desplegada.\n",
    "\n",
    "El largo de una hilera de caracteres se puede obtener por medio de la función len(). Esta se puede utilizar para accesar al último elemento de la hilera de caracteres [len()-1].\n",
    "\n",
    "La forma pitonica (Pythonic way) de accesar el último elemento es por medio del índice \"-1\". Pitonica se refiere al código que no solo tiene la sintaxis correcta sino que también sigue la convención de la comunidad de Python y utiliza el lenguaje en la forma que se supone se debe utilizar. El código no pitatonico no está necesariamente incorrecto, pero tiene a ser más feo, incomodo de ver, más difícil de leer y posiblemente menos eficiente. \n",
    "\n",
    "Una diferencia importante entre las hilera de caracteres y las listas es que las hilera de caracteres son inmutables. Podemos asignarle un nuevo valor a la hilera de caracteres, pero no podemos actualizar elementos individuales de la misma.\n",
    "\n",
    "Python tiene muchos métodos de hilera de caracteres ya incorporado. La lista completa de ellos se puede consultar en la documentación que presenta el siguiente link: https://docs.python.org/3/library/stdtypes.html#text-sequence-type-str\n",
    "\n",
    "Python tiene un método para encontrar la primera vez que ocurre una sub-hilera de caracteres en una hilera de caracteres, pero si usted sólo quiere si la hilera de caracteres contiene esa sub-hilera de caracteres (sin importar la ubicación), el modo pitonico de hacer es utilizando el operador \"in\".\n",
    "\n",
    "En resumen:"
   ]
  },
  {
   "cell_type": "code",
   "execution_count": 1,
   "metadata": {},
   "outputs": [
    {
     "name": "stdout",
     "output_type": "stream",
     "text": [
      "c\n"
     ]
    }
   ],
   "source": [
    "#Definición de una hilera de caracteres:\n",
    "mystr='abcdef'\n",
    "\n",
    "#Imprimir un valor:\n",
    "print(mystr[2])"
   ]
  },
  {
   "cell_type": "markdown",
   "metadata": {},
   "source": [
    "### Práctica\n",
    "Realice los siguientes ejercicios sobre hilera de caracteres:\n",
    "\n",
    "Cree una hilera de 5 caracteres"
   ]
  },
  {
   "cell_type": "code",
   "execution_count": null,
   "metadata": {},
   "outputs": [],
   "source": []
  },
  {
   "cell_type": "markdown",
   "metadata": {},
   "source": [
    "Imprima un índice cualquiera y una serie de 3 índices seguidos"
   ]
  },
  {
   "cell_type": "code",
   "execution_count": 2,
   "metadata": {},
   "outputs": [
    {
     "name": "stdout",
     "output_type": "stream",
     "text": [
      "Indice cualquiera\n",
      "3 índices seguidos\n"
     ]
    }
   ],
   "source": [
    "print('Indice cualquiera:')\n",
    "\n",
    "print('3 índices seguidos:')"
   ]
  },
  {
   "cell_type": "markdown",
   "metadata": {},
   "source": [
    "Imprima primero el tamaño de la hilera de caracteres, luego el último valor en forma pitorica y normal."
   ]
  },
  {
   "cell_type": "code",
   "execution_count": null,
   "metadata": {},
   "outputs": [],
   "source": [
    "print('Tamaño de la hilera:')\n",
    "    \n",
    "print('Pythonic way:')\n",
    "    \n",
    "print('Normal:')"
   ]
  },
  {
   "cell_type": "markdown",
   "metadata": {},
   "source": [
    "Intente actualizar un índice individual de la hilera de caracteres (debe de arrojar un error)."
   ]
  },
  {
   "cell_type": "code",
   "execution_count": null,
   "metadata": {},
   "outputs": [],
   "source": []
  },
  {
   "cell_type": "markdown",
   "metadata": {},
   "source": [
    "Cree otra hilera de caracteres que cuente tanto con mayúsculas como con minúsculas."
   ]
  },
  {
   "cell_type": "code",
   "execution_count": null,
   "metadata": {},
   "outputs": [],
   "source": []
  },
  {
   "cell_type": "markdown",
   "metadata": {},
   "source": [
    "Encuentre una función en la documentación para obtener lo siguiente:"
   ]
  },
  {
   "cell_type": "code",
   "execution_count": null,
   "metadata": {},
   "outputs": [],
   "source": [
    "print(\"Hilera de caracteres original:\")\n",
    "\n",
    "print(\"Convertir la hilera a mayúsculas:\")\n",
    "\n",
    "print(\"Convertir la hilera a minúsculas:\")\n",
    "\n",
    "print(\"El primer caracter en mayúscula:\")\n",
    "\n",
    "print(\"¿Es la hilera de sólo caracteres alfabéticos?:\")\n",
    "\n",
    "print(\"¿Es la hilera de sólo caracteres en minúscula?:\")\n",
    "\n",
    "print(\"¿Es la hilera de sólo caracteres numéricos?:\")"
   ]
  },
  {
   "cell_type": "markdown",
   "metadata": {},
   "source": [
    "## Listas\n",
    "Las listas son colecciones arbitrarias de elementos. Esos elementos pueden ser hilera de caracteres, enteros, booleano, números de punto flotante e incluso otras listas, conjuntos, tuplas o diccionarios (adelante se hablará de los términos nuevos que se mencionaron en esta enumeración).\n",
    "\n",
    "A diferencia de las hilera de caracteres, las listas son mutables, lo cuál significa que podemos realizar cambios de valores de elementos individuales. El mismo elementos puede aparecer varias veces en una lista y los elementos tienen posiciones definidas. Estas propiedades distinguen las listas de Python de otras estructuras de datos incorporadas. Las listas se encierran con llaves cuadradas. \n",
    "\n",
    "De esta manera, la separación entre elementos en una lista debe de hacerse por medio del uso de la coma, mientras que si la lista se compone de hilera de caracteres, las hilera de caracteres deben de ir dentro de comillas (''), mientras que en las listas de listas, las sublistas deben de cumplir la misma regla que las listas, estar encerradas dentro de paréntesis cuadrados ([]).\n",
    "\n",
    "Los elementos de las listas son accesados por índice y la longitud de la lista se obtiene utilizando la función len(), justo como en las hilera de caracteres.\n",
    "\n",
    "Python contiene funciones incorporadas para obtener información y modificar las listas. Dichas funciones se enlitan en el siguiente link: https://docs.python.org/3/tutorial/datastructures.html#more-on-lists."
   ]
  },
  {
   "cell_type": "markdown",
   "metadata": {},
   "source": [
    "### Práctica\n",
    "Realice los siguientes ejercicios sobre listas\n",
    "\n",
    "Cree e imprima una lista de enteros:"
   ]
  },
  {
   "cell_type": "code",
   "execution_count": null,
   "metadata": {},
   "outputs": [],
   "source": []
  },
  {
   "cell_type": "markdown",
   "metadata": {},
   "source": [
    "Cree e imprima una lista de hilera de caracteres:"
   ]
  },
  {
   "cell_type": "code",
   "execution_count": null,
   "metadata": {},
   "outputs": [],
   "source": []
  },
  {
   "cell_type": "markdown",
   "metadata": {},
   "source": [
    "Cree e imprima una lista vacía:"
   ]
  },
  {
   "cell_type": "code",
   "execution_count": null,
   "metadata": {},
   "outputs": [],
   "source": []
  },
  {
   "cell_type": "markdown",
   "metadata": {},
   "source": [
    "Imprima un elemento de la lista:"
   ]
  },
  {
   "cell_type": "code",
   "execution_count": null,
   "metadata": {},
   "outputs": [],
   "source": []
  },
  {
   "cell_type": "markdown",
   "metadata": {},
   "source": [
    "Imprima el último elemento de la lista de manera pitonica:"
   ]
  },
  {
   "cell_type": "code",
   "execution_count": null,
   "metadata": {},
   "outputs": [],
   "source": [
    "print('Phytonic way:')"
   ]
  },
  {
   "cell_type": "markdown",
   "metadata": {},
   "source": [
    "Averigüe e imprima el número de elementos de la lista:"
   ]
  },
  {
   "cell_type": "code",
   "execution_count": null,
   "metadata": {},
   "outputs": [],
   "source": []
  },
  {
   "cell_type": "markdown",
   "metadata": {},
   "source": [
    "Adjunte un elemento al final de la lista e imprima la lista nuevamente:"
   ]
  },
  {
   "cell_type": "code",
   "execution_count": null,
   "metadata": {},
   "outputs": [],
   "source": []
  },
  {
   "cell_type": "markdown",
   "metadata": {},
   "source": [
    "Elimine un elemento de la lista e imprima la nueva lista:"
   ]
  },
  {
   "cell_type": "code",
   "execution_count": null,
   "metadata": {},
   "outputs": [],
   "source": []
  },
  {
   "cell_type": "markdown",
   "metadata": {},
   "source": [
    "Invierta el orden de la lista e imprima el resultado:"
   ]
  },
  {
   "cell_type": "code",
   "execution_count": null,
   "metadata": {},
   "outputs": [],
   "source": []
  },
  {
   "cell_type": "markdown",
   "metadata": {},
   "source": [
    "Ordene la lista alfabéticamente e imprima el resultado:"
   ]
  },
  {
   "cell_type": "code",
   "execution_count": null,
   "metadata": {},
   "outputs": [],
   "source": []
  },
  {
   "cell_type": "markdown",
   "metadata": {},
   "source": [
    "Cuente la cantidad de veces que aparecen los elementos de la lista que se repiten:"
   ]
  },
  {
   "cell_type": "code",
   "execution_count": null,
   "metadata": {},
   "outputs": [],
   "source": []
  },
  {
   "cell_type": "markdown",
   "metadata": {},
   "source": [
    "## Diccionarios\n",
    "Los diccionarios son colecciones desordenadas de pares de valores-claves. La estructura equivalente en otros idiomas a veces se denominan \"hash\" o una matriz asociativa. En la opinión del autor, elegir el nombre \"diccionario\" sobre los alternativo es otro ejemplo de cómo Python fue diseñado para ser más intuitivo y amigable para los humanos. \n",
    "\n",
    "Al igual que las listas, los diccionarios son mutables. Si bien los valores pueden ser arbitrarios, la clave debe ser un tipo de datos simple \"hashable\" (por ejemplo las listas no pueden servir como claves). Una clave solo puede aparecer una vez y al asignar un nuevo valor a una clave se sobrescribirá el valor original. Los valores pueden aparecer varias veces. Los diccionarios están encerrados entre llaves y se accede a los valores del diccionarios usando el nombre de la clave entre paréntesis cuadrados. La asignación se realiza utilizando los dos puntos (:)."
   ]
  },
  {
   "cell_type": "code",
   "execution_count": 3,
   "metadata": {},
   "outputs": [
    {
     "name": "stdout",
     "output_type": "stream",
     "text": [
      "{'fabian': 'modelos', 'quincho': 'analisis'}\n",
      "{'fabian': 'modelos', 'quincho': 'analisis', 'jairo': 'maquinas2'}\n"
     ]
    }
   ],
   "source": [
    "#Ejemplo:\n",
    "profesores = {'fabian':'modelos', 'quincho':'analisis'}\n",
    "print(profesores)\n",
    "#Agregar elementos\n",
    "profesores['jairo'] = 'maquinas2'\n",
    "print(profesores)"
   ]
  },
  {
   "cell_type": "markdown",
   "metadata": {},
   "source": [
    "### Práctica\n",
    "Realice los siguientes ejercicios sobre diccionarios\n",
    "\n",
    "Cree un diccionario sobre frutas y sus colores (valores = colores, claves = frutas)"
   ]
  },
  {
   "cell_type": "code",
   "execution_count": null,
   "metadata": {},
   "outputs": [],
   "source": []
  },
  {
   "cell_type": "markdown",
   "metadata": {},
   "source": [
    "Imprima el diccionario"
   ]
  },
  {
   "cell_type": "code",
   "execution_count": null,
   "metadata": {},
   "outputs": [],
   "source": []
  },
  {
   "cell_type": "markdown",
   "metadata": {},
   "source": [
    "Elimine una entrada del diccionario e imprima el diccionario resultante."
   ]
  },
  {
   "cell_type": "code",
   "execution_count": null,
   "metadata": {},
   "outputs": [],
   "source": []
  },
  {
   "cell_type": "markdown",
   "metadata": {},
   "source": [
    "Imprima por aparte las claves del diccionario y los valores del diccionario"
   ]
  },
  {
   "cell_type": "code",
   "execution_count": null,
   "metadata": {},
   "outputs": [],
   "source": [
    "print('claves:')\n",
    "\n",
    "print('valores:')"
   ]
  }
 ],
 "metadata": {
  "kernelspec": {
   "display_name": "Python 3",
   "language": "python",
   "name": "python3"
  },
  "language_info": {
   "codemirror_mode": {
    "name": "ipython",
    "version": 3
   },
   "file_extension": ".py",
   "mimetype": "text/x-python",
   "name": "python",
   "nbconvert_exporter": "python",
   "pygments_lexer": "ipython3",
   "version": "3.7.3"
  }
 },
 "nbformat": 4,
 "nbformat_minor": 2
}
